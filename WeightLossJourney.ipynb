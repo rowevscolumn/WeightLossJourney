{
 "cells": [
  {
   "attachments": {},
   "cell_type": "markdown",
   "id": "508d5d7f",
   "metadata": {},
   "source": [
    "# Weight Loss Journey simple tracker\n",
    "\n",
    "Back in about 2013 I was on a weight loss journey and to keep track of my progress, instead of writing it down or using an app, I chose to challenge myself by using MySQL to keep track, because I needed practice with my SQL statements. That table is now well and gone, but it did help me know how well I did. In August of 2022, I wanted to restart my weight loss journey, and wrote a simple Python script to save my progress into a csv file. The reasoning was several fold. I wanted to keep my Python and Pandas up to par, I wanted to play around with widgets, and also I took that csv file and loaded it into Power BI for my first attempt at making a graph.\n",
    "\n",
    "Have a look for yourself for a quick rewrite of it, to tidy it up a bit. It's still incredibly simple code, but effective. And I plan on adding more stuff including a matplotlib graph as well as other things.\n",
    "\n",
    "#### Note\n",
    "\n",
    "It's better if you run one cell at a time. Running them all will populate the same line."
   ]
  },
  {
   "cell_type": "markdown",
   "id": "77c446a6",
   "metadata": {},
   "source": [
    "### Libraries\n",
    "\n",
    "Run this script to load all the libaries needed, including the class created."
   ]
  },
  {
   "cell_type": "code",
   "execution_count": null,
   "id": "346fc747",
   "metadata": {},
   "outputs": [],
   "source": [
    "import numpy as np\n",
    "import pandas as pd\n",
    "from datetime import datetime\n",
    "import ipywidgets\n",
    "from IPython.display import display\n",
    "from myclassWeightLoss import WeightLoss"
   ]
  },
  {
   "cell_type": "markdown",
   "id": "17635a9e",
   "metadata": {},
   "source": [
    "### Setup variables\n",
    "\n",
    "This will create the new class and open the csv file to save all the data, including getting the last known weight for the next slide."
   ]
  },
  {
   "cell_type": "code",
   "execution_count": null,
   "id": "2c59a5f7",
   "metadata": {},
   "outputs": [],
   "source": [
    "allweight = WeightLoss()\n",
    "allweight.opencsvfile()\n",
    "lastweight = allweight.lastknownweight()"
   ]
  },
  {
   "cell_type": "markdown",
   "id": "bc3e91e1",
   "metadata": {},
   "source": [
    "### Display the table\n",
    "\n",
    "How are you doing so far? Run this cell to have a look."
   ]
  },
  {
   "cell_type": "code",
   "execution_count": null,
   "id": "6041b752",
   "metadata": {},
   "outputs": [],
   "source": [
    "allweight.printdf()"
   ]
  },
  {
   "cell_type": "markdown",
   "id": "54a9e3e5",
   "metadata": {},
   "source": [
    "### Enter your new weight?\n",
    "\n",
    "Run this cell to enter your new weight. Just type it in, and run the next cell to save your progress"
   ]
  },
  {
   "cell_type": "code",
   "execution_count": null,
   "id": "781900a6",
   "metadata": {},
   "outputs": [],
   "source": [
    "newweighttextfield = ipywidgets.widgets.BoundedFloatText(\n",
    "    value=lastweight,\n",
    "    min=0,\n",
    "    max=600.0,\n",
    "    step=0.1,\n",
    "    description='New weight:',\n",
    "    disabled=False\n",
    ")\n",
    "display(newweighttextfield)"
   ]
  },
  {
   "cell_type": "markdown",
   "id": "439e1cb5",
   "metadata": {},
   "source": [
    "### Save your progress\n",
    "\n",
    "This cell will save your progress to the csv file. The time stamp is set up in the current time in ISO-8601 format. "
   ]
  },
  {
   "cell_type": "code",
   "execution_count": null,
   "id": "01bb1cbc",
   "metadata": {},
   "outputs": [],
   "source": [
    "newweight = newweighttextfield.value\n",
    "allweight.addnewweight(newweight)\n",
    "allweight.savecsvfile()"
   ]
  }
 ],
 "metadata": {
  "kernelspec": {
   "display_name": "Python 3 (ipykernel)",
   "language": "python",
   "name": "python3"
  },
  "language_info": {
   "codemirror_mode": {
    "name": "ipython",
    "version": 3
   },
   "file_extension": ".py",
   "mimetype": "text/x-python",
   "name": "python",
   "nbconvert_exporter": "python",
   "pygments_lexer": "ipython3",
   "version": "3.10.4"
  }
 },
 "nbformat": 4,
 "nbformat_minor": 5
}
